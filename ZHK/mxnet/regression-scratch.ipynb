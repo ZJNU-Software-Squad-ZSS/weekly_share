{
 "cells": [
  {
   "cell_type": "code",
   "execution_count": 1,
   "metadata": {},
   "outputs": [],
   "source": [
    "from IPython import display\n",
    "from mxnet import nd,autograd\n",
    "import random"
   ]
  },
  {
   "cell_type": "code",
   "execution_count": 2,
   "metadata": {},
   "outputs": [],
   "source": [
    "num_inputs = 3\n",
    "num_examples = 1000\n",
    "true_w = [3,-1,7.3]\n",
    "true_b = 5.7\n",
    "features = nd.random.normal(scale=1,shape=(num_examples,num_inputs))\n",
    "labels = true_w[0] * features[:,0] + true_w[1] * features[:,1] + true_w[2] * features[:,2] + true_b\n",
    "labels += nd.random.normal(scale=0.1,shape=labels.shape)\n"
   ]
  },
  {
   "cell_type": "code",
   "execution_count": 3,
   "metadata": {},
   "outputs": [],
   "source": [
    "def data_iter(batch_size,features,labels):\n",
    "    num_examples = len(features)\n",
    "    indices = list(range(num_examples))\n",
    "    random.shuffle(indices)   #打乱索引\n",
    "    for i in range(0,num_examples,batch_size):\n",
    "        j=nd.array(indices[i:min(i+batch_size,num_examples)])\n",
    "        yield features.take(j),labels.take(j)"
   ]
  },
  {
   "cell_type": "code",
   "execution_count": 30,
   "metadata": {},
   "outputs": [
    {
     "name": "stdout",
     "output_type": "stream",
     "text": [
      "\n",
      "[[ 0.03820492 -1.0871673   0.17046909]\n",
      " [-1.0010443   1.624257   -0.9838195 ]\n",
      " [ 0.75896156  0.19741666  0.78231204]\n",
      " [ 0.62100744 -1.8929878   1.3092364 ]\n",
      " [ 1.1983087  -0.7036396  -1.5554514 ]\n",
      " [-1.3360573  -0.27023232  2.2202117 ]\n",
      " [-0.20937306  1.058954    1.4487612 ]\n",
      " [ 0.0591518  -0.49726588  0.1703758 ]\n",
      " [-0.19660912  1.1343161  -1.110928  ]\n",
      " [ 0.33467403 -0.17202017  0.88323224]]\n",
      "<NDArray 10x3 @cpu(0)> \n",
      "[ 8.137586  -6.026309  13.3549795 19.079487  -1.3290368 18.15236\n",
      " 14.744698   7.5922956 -4.2614546 13.438318 ]\n",
      "<NDArray 10 @cpu(0)>\n"
     ]
    }
   ],
   "source": [
    "batch_size = 10\n",
    "for x,y in data_iter(batch_size,features,labels):\n",
    "    print(x,y)\n",
    "    break    #测试一次"
   ]
  },
  {
   "cell_type": "code",
   "execution_count": 31,
   "metadata": {},
   "outputs": [],
   "source": [
    "w = nd.random.normal(scale=0.01,shape=(num_inputs,1))\n",
    "b = nd.ones(shape=(1))\n",
    "w.attach_grad()\n",
    "b.attach_grad()"
   ]
  },
  {
   "cell_type": "code",
   "execution_count": 32,
   "metadata": {},
   "outputs": [],
   "source": [
    "def linreg(x,w,b):\n",
    "    return nd.dot(x,w)+b"
   ]
  },
  {
   "cell_type": "code",
   "execution_count": 33,
   "metadata": {},
   "outputs": [],
   "source": [
    "def squares_loss(y_hat,y):\n",
    "    return (y_hat-y.reshape(y_hat.shape)) **2 / 2"
   ]
  },
  {
   "cell_type": "code",
   "execution_count": 34,
   "metadata": {},
   "outputs": [],
   "source": [
    "def sgd(params,lr,batch_size):\n",
    "    for param in params:\n",
    "        param[:] = param - lr*param.grad/batch_size"
   ]
  },
  {
   "cell_type": "code",
   "execution_count": 35,
   "metadata": {},
   "outputs": [
    {
     "name": "stdout",
     "output_type": "stream",
     "text": [
      "epoch 1,loss 5.983449\n",
      "epoch 2,loss 0.900064\n",
      "epoch 3,loss 0.141336\n",
      "epoch 4,loss 0.025775\n",
      "epoch 5,loss 0.008026\n",
      "epoch 6,loss 0.005290\n",
      "epoch 7,loss 0.004856\n",
      "epoch 8,loss 0.004798\n",
      "epoch 9,loss 0.004785\n",
      "epoch 10,loss 0.004784\n",
      "epoch 11,loss 0.004784\n",
      "epoch 12,loss 0.004783\n",
      "epoch 13,loss 0.004783\n",
      "epoch 14,loss 0.004783\n",
      "epoch 15,loss 0.004783\n",
      "epoch 16,loss 0.004784\n",
      "epoch 17,loss 0.004783\n",
      "epoch 18,loss 0.004783\n",
      "epoch 19,loss 0.004783\n",
      "epoch 20,loss 0.004783\n"
     ]
    }
   ],
   "source": [
    "lr=0.01\n",
    "num_epochs=20\n",
    "for epoch in range(num_epochs):\n",
    "    for x,y in data_iter(batch_size, features, labels):\n",
    "        with autograd.record():\n",
    "            l=squares_loss(linreg(x,w,b),y)\n",
    "        l.backward()\n",
    "        sgd([w,b],lr,batch_size)\n",
    "    train_l=squares_loss(linreg(features,w,b),labels)\n",
    "    print('epoch %d,loss %f'%(epoch+1,train_l.mean().asnumpy()))"
   ]
  },
  {
   "cell_type": "code",
   "execution_count": 26,
   "metadata": {},
   "outputs": [
    {
     "data": {
      "text/plain": [
       "([3, -1, 7.3], \n",
       " [[ 0.03132214]\n",
       "  [-0.00435899]\n",
       "  [-0.00492951]]\n",
       " <NDArray 3x1 @cpu(0)>)"
      ]
     },
     "execution_count": 26,
     "metadata": {},
     "output_type": "execute_result"
    }
   ],
   "source": [
    "true_w,w"
   ]
  },
  {
   "cell_type": "code",
   "execution_count": 11,
   "metadata": {},
   "outputs": [
    {
     "data": {
      "text/plain": [
       "(5.7, \n",
       " [1.]\n",
       " <NDArray 1 @cpu(0)>)"
      ]
     },
     "execution_count": 11,
     "metadata": {},
     "output_type": "execute_result"
    }
   ],
   "source": [
    "true_b,b"
   ]
  }
 ],
 "metadata": {
  "kernelspec": {
   "display_name": "Python 3",
   "language": "python",
   "name": "python3"
  },
  "language_info": {
   "codemirror_mode": {
    "name": "ipython",
    "version": 3
   },
   "file_extension": ".py",
   "mimetype": "text/x-python",
   "name": "python",
   "nbconvert_exporter": "python",
   "pygments_lexer": "ipython3",
   "version": "3.7.5"
  }
 },
 "nbformat": 4,
 "nbformat_minor": 2
}
